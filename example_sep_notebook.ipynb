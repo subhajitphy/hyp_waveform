{
 "cells": [
  {
   "cell_type": "code",
   "execution_count": 1,
   "id": "7adb6f91",
   "metadata": {
    "tags": []
   },
   "outputs": [
    {
     "name": "stdout",
     "output_type": "stream",
     "text": [
      "Warning: cannot find astropy, units support will not be available.\n"
     ]
    }
   ],
   "source": [
    "from gw_hyp import hyp_pta_res\n",
    "from enterprise.pulsar import Pulsar\n",
    " \n",
    "import enterprise\n",
    "import numpy as np\n",
    "import matplotlib.pyplot as plt"
   ]
  },
  {
   "cell_type": "code",
   "execution_count": 2,
   "id": "42758096",
   "metadata": {
    "tags": []
   },
   "outputs": [],
   "source": [
    "datadir = f\"{enterprise.__path__[0]}/datafiles/mdc_open1\"\n",
    "parfile = f\"{datadir}/J0030+0451.par\"\n",
    "timfile = f\"{datadir}/J0030+0451.tim\""
   ]
  },
  {
   "cell_type": "code",
   "execution_count": 3,
   "id": "18c44c8a",
   "metadata": {
    "tags": []
   },
   "outputs": [
    {
     "name": "stdout",
     "output_type": "stream",
     "text": [
      "[tempo2Util.C:396] Warning: [TIM1] Please place MODE flags in the parameter file \n"
     ]
    }
   ],
   "source": [
    "psr = Pulsar(parfile, timfile)"
   ]
  },
  {
   "cell_type": "code",
   "execution_count": 4,
   "id": "83f3577b",
   "metadata": {
    "tags": []
   },
   "outputs": [],
   "source": [
    "def hms_to_rad(hh, mm, ss):\n",
    "    sgn = np.sign(hh)\n",
    "    return sgn * (sgn * hh + mm / 60 + ss / 3600) * np.pi / 12\n",
    "\n",
    "\n",
    "def dms_to_rad(dd, mm, ss):\n",
    "    sgn = np.sign(dd)\n",
    "    return sgn * (sgn * dd + mm / 60 + ss / 3600) * np.pi / 180"
   ]
  },
  {
   "cell_type": "code",
   "execution_count": 5,
   "id": "89812834",
   "metadata": {
    "tags": []
   },
   "outputs": [],
   "source": [
    "M=2e10 \n",
    "q=1\n",
    "e0=1.1\n",
    "b=40\n",
    "ti=-5\n",
    "tf=5\n",
    "t_step=1000\n",
    "inc=np.pi/3\n",
    "distance=5\n",
    "order=3"
   ]
  },
  {
   "cell_type": "code",
   "execution_count": 6,
   "id": "af90eb24",
   "metadata": {
    "tags": []
   },
   "outputs": [],
   "source": [
    "# from constants import *\n",
    "# Time=M*tsun\n",
    "\n",
    "# ts = (psr.toas - tref1)/Time\n",
    "\n",
    "# # ti, tf, tzs in seconds, in source frame\n",
    "# ti = min(ts)\n",
    "# tf = max(ts)\n",
    "# (tf-ti)*Time/yr"
   ]
  },
  {
   "cell_type": "code",
   "execution_count": 7,
   "id": "76563eaf",
   "metadata": {
    "tags": []
   },
   "outputs": [],
   "source": [
    "RA_GW = hms_to_rad(4, 0, 0)\n",
    "DEC_GW = dms_to_rad(-45, 0, 0)\n",
    "\n",
    "S0 = 1e-6"
   ]
  },
  {
   "cell_type": "code",
   "execution_count": 8,
   "id": "82dc8598",
   "metadata": {
    "tags": []
   },
   "outputs": [],
   "source": [
    "tref1 = (max(psr.toas)+min(psr.toas))/2"
   ]
  },
  {
   "cell_type": "code",
   "execution_count": 9,
   "id": "56aed086",
   "metadata": {
    "tags": []
   },
   "outputs": [],
   "source": [
    "hyp_gw = hyp_pta_res(\n",
    "    cos_gwtheta=np.sin(DEC_GW),\n",
    "    gwphi=RA_GW,\n",
    "    psi=0,\n",
    "    cos_inc=np.cos(inc),\n",
    "    log10_M=np.log10(M),\n",
    "    q=q,\n",
    "    b=b,\n",
    "    e0=e0,\n",
    "    tref=tref1,\n",
    "    log10_S=np.log10(S0)\n",
    ")"
   ]
  },
  {
   "cell_type": "code",
   "execution_count": 10,
   "id": "32643df1",
   "metadata": {
    "tags": []
   },
   "outputs": [],
   "source": [
    "hyp_gw_fn = hyp_gw(name=\"hyp_gw\", psr=psr)\n",
    "\n",
    "res= hyp_gw_fn()"
   ]
  },
  {
   "cell_type": "code",
   "execution_count": 11,
   "id": "dbac120e",
   "metadata": {
    "tags": []
   },
   "outputs": [],
   "source": [
    "yr=365.25*24*3600"
   ]
  },
  {
   "cell_type": "code",
   "execution_count": 12,
   "id": "953cd7bc",
   "metadata": {
    "tags": []
   },
   "outputs": [
    {
     "data": {
      "text/plain": [
       "<matplotlib.collections.PathCollection at 0x7f59dc5e92e0>"
      ]
     },
     "execution_count": 12,
     "metadata": {},
     "output_type": "execute_result"
    },
    {
     "data": {
      "image/png": "[encoded data removed]",
      "text/plain": [
       "<Figure size 640x480 with 1 Axes>"
      ]
     },
     "metadata": {},
     "output_type": "display_data"
    }
   ],
   "source": [
    "toas = psr.toas / yr\n",
    "plt.scatter(toas, res, marker=\"+\")"
   ]
  },
  {
   "cell_type": "code",
   "execution_count": null,
   "id": "9e41c7f8",
   "metadata": {},
   "outputs": [],
   "source": [
    "toas = psr.toas / (365.25*24*3600)\n",
    "plt.scatter(toas, amp*res, marker=\"+\")"
   ]
  },
  {
   "cell_type": "code",
   "execution_count": null,
   "id": "034b937d",
   "metadata": {},
   "outputs": [],
   "source": [
    "from constants import *\n",
    "Time=M*tsun\n",
    "ts = (toas - tref1)/Time\n",
    "\n",
    "# ti, tf, tzs in seconds, in source frame\n",
    "ti = min(ts)\n",
    "tf = max(ts)"
   ]
  },
  {
   "cell_type": "code",
   "execution_count": null,
   "id": "e19a755f",
   "metadata": {},
   "outputs": [],
   "source": [
    "get_D_GW(1e-7,M,q,e0,b,ti,tf,3)/pc"
   ]
  },
  {
   "cell_type": "code",
   "execution_count": null,
   "id": "11149dce",
   "metadata": {},
   "outputs": [],
   "source": []
  }
 ],
 "metadata": {
  "kernelspec": {
   "display_name": "pta",
   "language": "python",
   "name": "pta"
  },
  "language_info": {
   "codemirror_mode": {
    "name": "ipython",
    "version": 3
   },
   "file_extension": ".py",
   "mimetype": "text/x-python",
   "name": "python",
   "nbconvert_exporter": "python",
   "pygments_lexer": "ipython3",
   "version": "3.9.16"
  }
 },
 "nbformat": 4,
 "nbformat_minor": 5
}
